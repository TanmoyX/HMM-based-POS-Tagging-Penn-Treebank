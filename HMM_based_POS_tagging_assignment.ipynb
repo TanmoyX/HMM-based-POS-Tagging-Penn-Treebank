{
 "cells": [
  {
   "cell_type": "markdown",
   "metadata": {
    "id": "Ip0bOYSStHQS"
   },
   "source": [
    "## HMM based POS Tagging Assignment\n",
    "\n",
    "\n",
    "In this assignment, you need to modify the Viterbi algorithm to solve the problem of unknown words using at least two techniques. Though there could be multiple ways to solve this problem, you may use the following hints:\n",
    "\n",
    "- Which tag class do you think most unknown words belong to? Can you identify rules (e.g. based on morphological cues) that can be used to tag unknown words? You may define separate python functions to exploit these rules so that they work in tandem with the original Viterbi algorithm.\n",
    "- Why does the Viterbi algorithm choose a random tag on encountering an unknown word? Can you modify the Viterbi algorithm so that it considers only one of the transition or emission probabilities for unknown words?\n",
    "\n",
    "### Goals\n",
    "\n",
    "You can split the Treebank dataset into train and validation sets. Please use a sample size of 95:5 for training: validation sets, i.e. keep the validation size small, else the algorithm will need a very high amount of runtime.\n",
    "\n",
    " \n",
    "\n",
    "You need to accomplish the following in this assignment:\n",
    "\n",
    "- Write the vanilla Viterbi algorithm for assigning POS tags (i.e. without dealing with unknown words) \n",
    "- Solve the problem of unknown words using at least two techniques. These techniques can use any of the approaches discussed in the class - lexicon, rule-based, probabilistic etc. Note that to implement these techniques, you can either write separate functions and call them from the main Viterbi algorithm, or modify the Viterbi algorithm, or both.\n",
    "- Compare the tagging accuracy after making these modifications with the vanilla Viterbi algorithm.\n",
    "- List down at least three cases from the sample test file (i.e. unknown word-tag pairs) which were incorrectly tagged by the original Viterbi POS tagger and got corrected after your modifications."
   ]
  },
  {
   "cell_type": "code",
   "execution_count": 1,
   "metadata": {
    "id": "6fwTBptMtm7D"
   },
   "outputs": [],
   "source": [
    "# Importing libraries\n",
    "import nltk\n",
    "import numpy as np\n",
    "import pandas as pd\n",
    "import random\n",
    "from sklearn.model_selection import train_test_split\n",
    "import time"
   ]
  },
  {
   "cell_type": "code",
   "execution_count": 2,
   "metadata": {
    "colab": {
     "base_uri": "https://localhost:8080/"
    },
    "id": "UdpjRGonuSJN",
    "outputId": "6211c7ae-9e11-4246-c4a5-956b78aa3b0b"
   },
   "outputs": [
    {
     "name": "stderr",
     "output_type": "stream",
     "text": [
      "[nltk_data] Downloading package treebank to\n",
      "[nltk_data]     C:\\Users\\ASUS\\AppData\\Roaming\\nltk_data...\n",
      "[nltk_data]   Package treebank is already up-to-date!\n",
      "[nltk_data] Downloading package universal_tagset to\n",
      "[nltk_data]     C:\\Users\\ASUS\\AppData\\Roaming\\nltk_data...\n",
      "[nltk_data]   Package universal_tagset is already up-to-date!\n"
     ]
    },
    {
     "data": {
      "text/plain": [
       "True"
      ]
     },
     "execution_count": 2,
     "metadata": {},
     "output_type": "execute_result"
    }
   ],
   "source": [
    "nltk.download('treebank')\n",
    "nltk.download('universal_tagset')"
   ]
  },
  {
   "cell_type": "code",
   "execution_count": 3,
   "metadata": {
    "colab": {
     "base_uri": "https://localhost:8080/"
    },
    "id": "gbcdEjvsuB15",
    "outputId": "3c6434bd-6004-4026-d250-b78acc10a32e"
   },
   "outputs": [
    {
     "data": {
      "text/plain": [
       "[[('Pierre', 'NOUN'),\n",
       "  ('Vinken', 'NOUN'),\n",
       "  (',', '.'),\n",
       "  ('61', 'NUM'),\n",
       "  ('years', 'NOUN'),\n",
       "  ('old', 'ADJ'),\n",
       "  (',', '.'),\n",
       "  ('will', 'VERB'),\n",
       "  ('join', 'VERB'),\n",
       "  ('the', 'DET'),\n",
       "  ('board', 'NOUN'),\n",
       "  ('as', 'ADP'),\n",
       "  ('a', 'DET'),\n",
       "  ('nonexecutive', 'ADJ'),\n",
       "  ('director', 'NOUN'),\n",
       "  ('Nov.', 'NOUN'),\n",
       "  ('29', 'NUM'),\n",
       "  ('.', '.')],\n",
       " [('Mr.', 'NOUN'),\n",
       "  ('Vinken', 'NOUN'),\n",
       "  ('is', 'VERB'),\n",
       "  ('chairman', 'NOUN'),\n",
       "  ('of', 'ADP'),\n",
       "  ('Elsevier', 'NOUN'),\n",
       "  ('N.V.', 'NOUN'),\n",
       "  (',', '.'),\n",
       "  ('the', 'DET'),\n",
       "  ('Dutch', 'NOUN'),\n",
       "  ('publishing', 'VERB'),\n",
       "  ('group', 'NOUN'),\n",
       "  ('.', '.')]]"
      ]
     },
     "execution_count": 3,
     "metadata": {},
     "output_type": "execute_result"
    }
   ],
   "source": [
    "# Reading the Treebank tagged sentences\n",
    "tagged_sent = list(nltk.corpus.treebank.tagged_sents(tagset='universal'))\n",
    "tagged_sent[:2]"
   ]
  },
  {
   "cell_type": "code",
   "execution_count": 4,
   "metadata": {
    "colab": {
     "base_uri": "https://localhost:8080/"
    },
    "id": "uEw6sceRuNxV",
    "outputId": "78d0d0ac-5430-41ce-b614-ce60cb17b8c7"
   },
   "outputs": [
    {
     "name": "stdout",
     "output_type": "stream",
     "text": [
      "----Train----\n",
      "\n",
      "3718\n",
      "[[('She', 'PRON'), ('says', 'VERB'), ('0', 'X'), ('she', 'PRON'), ('offered', 'VERB'), ('Mrs.', 'NOUN'), ('Yeargin', 'NOUN'), ('a', 'DET'), ('quiet', 'ADJ'), ('resignation', 'NOUN'), ('and', 'CONJ'), ('thought', 'VERB'), ('0', 'X'), ('she', 'PRON'), ('could', 'VERB'), ('help', 'VERB'), ('*-1', 'X'), ('save', 'VERB'), ('her', 'PRON'), ('teaching', 'NOUN'), ('certificate', 'NOUN'), ('.', '.')], [('Program', 'NOUN'), ('trading', 'NOUN'), ('money', 'NOUN'), ('managers', 'NOUN'), ('have', 'VERB'), ('gained', 'VERB'), ('control', 'NOUN'), ('over', 'ADP'), ('a', 'DET'), ('big', 'ADJ'), ('chunk', 'NOUN'), ('of', 'ADP'), ('the', 'DET'), ('invested', 'VERB'), ('funds', 'NOUN'), ('in', 'ADP'), ('this', 'DET'), ('country', 'NOUN'), (',', '.'), ('and', 'CONJ'), ('the', 'DET'), ('pressures', 'NOUN'), ('*ICH*-2', 'X'), ('on', 'ADP'), ('such', 'ADJ'), ('money', 'NOUN'), ('managers', 'NOUN'), ('*', 'X'), ('to', 'PRT'), ('produce', 'VERB'), ('consistent', 'ADJ'), ('profits', 'NOUN'), ('has', 'VERB'), ('wedded', 'VERB'), ('them', 'PRON'), ('to', 'PRT'), ('the', 'DET'), ('ability', 'NOUN'), ('*', 'X'), ('to', 'PRT'), ('move', 'VERB'), ('rapidly', 'ADV'), ('in', 'ADP'), ('and', 'CONJ'), ('out', 'ADP'), ('the', 'DET'), ('market', 'NOUN'), ('that', 'ADP'), ('program', 'NOUN'), ('trading', 'NOUN'), ('gives', 'VERB'), ('them', 'PRON'), ('*T*-1', 'X'), ('.', '.')]]\n",
      "\n",
      "----Test----\n",
      "\n",
      "196\n",
      "[[('For', 'ADP'), ('instance', 'NOUN'), (',', '.'), ('at', 'ADP'), ('the', 'DET'), ('first', 'ADJ'), ('meeting', 'NOUN'), ('the', 'DET'), ('two', 'NUM'), ('sides', 'NOUN'), ('could', 'VERB'), (\"n't\", 'ADV'), ('even', 'ADV'), ('agree', 'VERB'), ('on', 'ADP'), ('basic', 'ADJ'), ('data', 'NOUN'), ('used', 'VERB'), ('*', 'X'), ('in', 'ADP'), ('price', 'NOUN'), ('discussions', 'NOUN'), ('.', '.')], [('``', '.'), ('There', 'DET'), (\"'s\", 'VERB'), ('no', 'DET'), ('question', 'NOUN'), ('that', 'ADP'), ('some', 'DET'), ('of', 'ADP'), ('those', 'DET'), ('workers', 'NOUN'), ('and', 'CONJ'), ('managers', 'NOUN'), ('contracted', 'VERB'), ('asbestos-related', 'ADJ'), ('diseases', 'NOUN'), (',', '.'), (\"''\", '.'), ('said', 'VERB'), ('*T*-1', 'X'), ('Darrell', 'NOUN'), ('Phillips', 'NOUN'), (',', '.'), ('vice', 'NOUN'), ('president', 'NOUN'), ('of', 'ADP'), ('human', 'ADJ'), ('resources', 'NOUN'), ('for', 'ADP'), ('Hollingsworth', 'NOUN'), ('&', 'CONJ'), ('Vose', 'NOUN'), ('.', '.')]]\n"
     ]
    }
   ],
   "source": [
    "# Splitting into train and test\n",
    "random.seed(1234)\n",
    "train_set, test_set = train_test_split(tagged_sent, test_size = 0.05, random_state = 1000)\n",
    "\n",
    "print('----Train----\\n')\n",
    "print(len(train_set))\n",
    "print(train_set[:2])\n",
    "print('\\n----Test----\\n')\n",
    "print(len(test_set))\n",
    "print(test_set[:2])"
   ]
  },
  {
   "cell_type": "code",
   "execution_count": 5,
   "metadata": {
    "colab": {
     "base_uri": "https://localhost:8080/"
    },
    "id": "GupZ-NPRusyP",
    "outputId": "802c3d52-a0f7-4679-bef5-6a5e64f4dbf9"
   },
   "outputs": [
    {
     "name": "stdout",
     "output_type": "stream",
     "text": [
      "Train tagged words count: 95414\n",
      "Test tagged words count: 5262\n"
     ]
    }
   ],
   "source": [
    "# Creating list of train and test tagged words\n",
    "train_tagged_words = [tup for sent in train_set for tup in sent]\n",
    "test_tagged_words = [tup[0] for sent in test_set for tup in sent]\n",
    "print('Train tagged words count: ' + str(len(train_tagged_words)))\n",
    "print('Test tagged words count: ' + str(len(test_tagged_words)))"
   ]
  },
  {
   "cell_type": "code",
   "execution_count": 6,
   "metadata": {
    "colab": {
     "base_uri": "https://localhost:8080/"
    },
    "id": "xgT1Qohyvc4W",
    "outputId": "0f93a081-f821-461f-e458-e2f91aa22a8e"
   },
   "outputs": [
    {
     "data": {
      "text/plain": [
       "['She',\n",
       " 'says',\n",
       " '0',\n",
       " 'she',\n",
       " 'offered',\n",
       " 'Mrs.',\n",
       " 'Yeargin',\n",
       " 'a',\n",
       " 'quiet',\n",
       " 'resignation']"
      ]
     },
     "execution_count": 6,
     "metadata": {},
     "output_type": "execute_result"
    }
   ],
   "source": [
    "# Tokens in the train set\n",
    "train_tagged_tokens = [tag[0] for tag in train_tagged_words]\n",
    "train_tagged_tokens[:10]"
   ]
  },
  {
   "cell_type": "code",
   "execution_count": 7,
   "metadata": {
    "colab": {
     "base_uri": "https://localhost:8080/"
    },
    "id": "9xur37lWACty",
    "outputId": "c3788720-cb48-4388-b062-fd8fa750aea2"
   },
   "outputs": [
    {
     "data": {
      "text/plain": [
       "['PRON', 'VERB', 'X', 'PRON', 'VERB', 'NOUN', 'NOUN', 'DET', 'ADJ', 'NOUN']"
      ]
     },
     "execution_count": 7,
     "metadata": {},
     "output_type": "execute_result"
    }
   ],
   "source": [
    "# POS tags for the tokens in the train set\n",
    "\n",
    "train_tagged_pos_tokens = [tag[1] for tag in train_tagged_words]\n",
    "train_tagged_pos_tokens[:10]"
   ]
  },
  {
   "cell_type": "code",
   "execution_count": 8,
   "metadata": {
    "id": "fbpFiTDLv0-d"
   },
   "outputs": [],
   "source": [
    "# Building the train vocabulary to a set\n",
    "training_vocabulary_set = set(train_tagged_tokens)"
   ]
  },
  {
   "cell_type": "code",
   "execution_count": 9,
   "metadata": {
    "id": "SnbkxMlKAkZO"
   },
   "outputs": [],
   "source": [
    "# Building the POS tags to a set\n",
    "training_pos_tag_set = set(train_tagged_pos_tokens)"
   ]
  },
  {
   "cell_type": "code",
   "execution_count": 10,
   "metadata": {
    "colab": {
     "base_uri": "https://localhost:8080/"
    },
    "id": "M5OSYSoGAdmu",
    "outputId": "6986284f-b4a6-41ae-cc69-5c1f424b9132"
   },
   "outputs": [
    {
     "name": "stdout",
     "output_type": "stream",
     "text": [
      "12\n"
     ]
    }
   ],
   "source": [
    "# Checking how many unique tags are present in training data\n",
    "print(len(training_pos_tag_set))"
   ]
  },
  {
   "cell_type": "code",
   "execution_count": 11,
   "metadata": {},
   "outputs": [
    {
     "name": "stdout",
     "output_type": "stream",
     "text": [
      "{'VERB', 'X', 'NUM', 'NOUN', 'DET', 'PRON', 'ADJ', 'ADP', 'PRT', 'CONJ', 'ADV', '.'}\n"
     ]
    }
   ],
   "source": [
    "# Printing unique tags present in training data\n",
    "print(training_pos_tag_set)"
   ]
  },
  {
   "cell_type": "code",
   "execution_count": 12,
   "metadata": {
    "colab": {
     "base_uri": "https://localhost:8080/"
    },
    "id": "D559b11ewMTS",
    "outputId": "9331a544-b10e-4286-bca7-d6a40aca46a5"
   },
   "outputs": [
    {
     "name": "stdout",
     "output_type": "stream",
     "text": [
      "12032\n"
     ]
    }
   ],
   "source": [
    "# Checking how many words are present in vocabulary\n",
    "vocab = {word for word,tag in train_tagged_words}\n",
    "print(len(vocab))"
   ]
  },
  {
   "cell_type": "markdown",
   "metadata": {
    "id": "eTFxq8XX1404"
   },
   "source": [
    "## Building Model\n",
    "\n",
    "**Function to compute emission probabilties for a given word**\n",
    "\n"
   ]
  },
  {
   "cell_type": "code",
   "execution_count": 13,
   "metadata": {
    "id": "LOuT53eTyEy_"
   },
   "outputs": [],
   "source": [
    "# Computing emission probability for a given word for a given tag\n",
    "def word_given_tag(word, tag, train_bag = train_tagged_words):\n",
    "    taglist = [pair for pair in train_bag if pair[1] == tag]\n",
    "    tag_count = len(taglist)    \n",
    "    w_in_tag = [pair[0] for pair in taglist if pair[0]==word]    \n",
    "    word_count_given_tag = len(w_in_tag)    \n",
    "    \n",
    "    return (word_count_given_tag, tag_count)"
   ]
  },
  {
   "cell_type": "markdown",
   "metadata": {
    "id": "9R4w_e7h5TUB"
   },
   "source": [
    "**Function to compute transition probabilties for a given tag and previous tag**"
   ]
  },
  {
   "cell_type": "code",
   "execution_count": 14,
   "metadata": {
    "id": "dNGMHtPF2bBT"
   },
   "outputs": [],
   "source": [
    "# Computing transition probabilities of a previous and next tag\n",
    "def t2_given_t1(t2, t1, train_bag = train_tagged_words):\n",
    "    tags = [pair[1] for pair in train_bag]\n",
    "    \n",
    "    t1_tags = [tag for tag in tags if tag == t1]\n",
    "    \n",
    "    count_of_t1 = len(t1_tags)\n",
    "    \n",
    "    t2_given_t1 = [tags[index+1] for index in range(len(tags) - 1) if tags[index] == t1 and tags[index+1] == t2]\n",
    "    \n",
    "    count_t2_given_t1 = len(t2_given_t1)\n",
    "    \n",
    "    return(count_t2_given_t1, count_of_t1)"
   ]
  },
  {
   "cell_type": "code",
   "execution_count": 15,
   "metadata": {
    "colab": {
     "base_uri": "https://localhost:8080/"
    },
    "id": "U7bqfR4s3x3m",
    "outputId": "9fcaf191-ab3e-4d0f-ab4a-aebdd9bb8428"
   },
   "outputs": [
    {
     "data": {
      "text/plain": [
       "(99, 3007)"
      ]
     },
     "execution_count": 15,
     "metadata": {},
     "output_type": "execute_result"
    }
   ],
   "source": [
    "# Checking for NOUN given ADV\n",
    "t2_given_t1('NOUN','ADV')"
   ]
  },
  {
   "cell_type": "code",
   "execution_count": 16,
   "metadata": {
    "id": "JRRJ46-u33vi"
   },
   "outputs": [],
   "source": [
    "# Creating t x t transition matrix of tags\n",
    "# each column is t2, each row is t1\n",
    "# thus M(i, j) represents P(tj given ti)\n",
    "\n",
    "tags_matrix = np.zeros((len(training_pos_tag_set), len(training_pos_tag_set)), dtype = 'float32')\n",
    "for i, t1 in enumerate(list(training_pos_tag_set)):\n",
    "    for j, t2 in enumerate(list(training_pos_tag_set)): \n",
    "        tags_matrix[i, j] = t2_given_t1(t2, t1)[0] / t2_given_t1(t2, t1)[1]"
   ]
  },
  {
   "cell_type": "code",
   "execution_count": 17,
   "metadata": {
    "id": "r-1OFvKh4XiM"
   },
   "outputs": [],
   "source": [
    "# Converting the matrix to a dataframe for better readability\n",
    "tags_df = pd.DataFrame(tags_matrix, columns = list(training_pos_tag_set), index=list(training_pos_tag_set))"
   ]
  },
  {
   "cell_type": "code",
   "execution_count": 18,
   "metadata": {
    "colab": {
     "base_uri": "https://localhost:8080/",
     "height": 421
    },
    "id": "CV1P9Lxj5CUy",
    "outputId": "91c7a1ef-1a9a-4227-8ccd-e0ac1e5a2c57"
   },
   "outputs": [
    {
     "data": {
      "text/html": [
       "<div>\n",
       "<style scoped>\n",
       "    .dataframe tbody tr th:only-of-type {\n",
       "        vertical-align: middle;\n",
       "    }\n",
       "\n",
       "    .dataframe tbody tr th {\n",
       "        vertical-align: top;\n",
       "    }\n",
       "\n",
       "    .dataframe thead th {\n",
       "        text-align: right;\n",
       "    }\n",
       "</style>\n",
       "<table border=\"1\" class=\"dataframe\">\n",
       "  <thead>\n",
       "    <tr style=\"text-align: right;\">\n",
       "      <th></th>\n",
       "      <th>VERB</th>\n",
       "      <th>X</th>\n",
       "      <th>NUM</th>\n",
       "      <th>NOUN</th>\n",
       "      <th>DET</th>\n",
       "      <th>PRON</th>\n",
       "      <th>ADJ</th>\n",
       "      <th>ADP</th>\n",
       "      <th>PRT</th>\n",
       "      <th>CONJ</th>\n",
       "      <th>ADV</th>\n",
       "      <th>.</th>\n",
       "    </tr>\n",
       "  </thead>\n",
       "  <tbody>\n",
       "    <tr>\n",
       "      <th>VERB</th>\n",
       "      <td>0.168742</td>\n",
       "      <td>0.217388</td>\n",
       "      <td>0.023272</td>\n",
       "      <td>0.111146</td>\n",
       "      <td>0.134729</td>\n",
       "      <td>0.035025</td>\n",
       "      <td>0.064679</td>\n",
       "      <td>0.092310</td>\n",
       "      <td>0.031367</td>\n",
       "      <td>0.005526</td>\n",
       "      <td>0.081102</td>\n",
       "      <td>0.034714</td>\n",
       "    </tr>\n",
       "    <tr>\n",
       "      <th>X</th>\n",
       "      <td>0.204883</td>\n",
       "      <td>0.074836</td>\n",
       "      <td>0.002713</td>\n",
       "      <td>0.062390</td>\n",
       "      <td>0.054572</td>\n",
       "      <td>0.055689</td>\n",
       "      <td>0.016435</td>\n",
       "      <td>0.144567</td>\n",
       "      <td>0.184937</td>\n",
       "      <td>0.010372</td>\n",
       "      <td>0.024573</td>\n",
       "      <td>0.164034</td>\n",
       "    </tr>\n",
       "    <tr>\n",
       "      <th>NUM</th>\n",
       "      <td>0.017272</td>\n",
       "      <td>0.212031</td>\n",
       "      <td>0.184634</td>\n",
       "      <td>0.352591</td>\n",
       "      <td>0.003276</td>\n",
       "      <td>0.001489</td>\n",
       "      <td>0.034247</td>\n",
       "      <td>0.034842</td>\n",
       "      <td>0.026206</td>\n",
       "      <td>0.013996</td>\n",
       "      <td>0.002978</td>\n",
       "      <td>0.116438</td>\n",
       "    </tr>\n",
       "    <tr>\n",
       "      <th>NOUN</th>\n",
       "      <td>0.146341</td>\n",
       "      <td>0.029217</td>\n",
       "      <td>0.009507</td>\n",
       "      <td>0.263649</td>\n",
       "      <td>0.012908</td>\n",
       "      <td>0.004388</td>\n",
       "      <td>0.012396</td>\n",
       "      <td>0.177350</td>\n",
       "      <td>0.044246</td>\n",
       "      <td>0.042491</td>\n",
       "      <td>0.017296</td>\n",
       "      <td>0.240209</td>\n",
       "    </tr>\n",
       "    <tr>\n",
       "      <th>DET</th>\n",
       "      <td>0.039966</td>\n",
       "      <td>0.045658</td>\n",
       "      <td>0.022042</td>\n",
       "      <td>0.637520</td>\n",
       "      <td>0.005329</td>\n",
       "      <td>0.003754</td>\n",
       "      <td>0.205038</td>\n",
       "      <td>0.009325</td>\n",
       "      <td>0.000242</td>\n",
       "      <td>0.000484</td>\n",
       "      <td>0.012716</td>\n",
       "      <td>0.017924</td>\n",
       "    </tr>\n",
       "    <tr>\n",
       "      <th>PRON</th>\n",
       "      <td>0.486883</td>\n",
       "      <td>0.090664</td>\n",
       "      <td>0.007330</td>\n",
       "      <td>0.212191</td>\n",
       "      <td>0.008873</td>\n",
       "      <td>0.008102</td>\n",
       "      <td>0.073302</td>\n",
       "      <td>0.022762</td>\n",
       "      <td>0.011188</td>\n",
       "      <td>0.004630</td>\n",
       "      <td>0.034722</td>\n",
       "      <td>0.039352</td>\n",
       "    </tr>\n",
       "    <tr>\n",
       "      <th>ADJ</th>\n",
       "      <td>0.011513</td>\n",
       "      <td>0.020888</td>\n",
       "      <td>0.020724</td>\n",
       "      <td>0.699342</td>\n",
       "      <td>0.004605</td>\n",
       "      <td>0.000658</td>\n",
       "      <td>0.067105</td>\n",
       "      <td>0.077303</td>\n",
       "      <td>0.010691</td>\n",
       "      <td>0.017105</td>\n",
       "      <td>0.004605</td>\n",
       "      <td>0.065461</td>\n",
       "    </tr>\n",
       "    <tr>\n",
       "      <th>ADP</th>\n",
       "      <td>0.008329</td>\n",
       "      <td>0.035558</td>\n",
       "      <td>0.062467</td>\n",
       "      <td>0.320128</td>\n",
       "      <td>0.324399</td>\n",
       "      <td>0.069407</td>\n",
       "      <td>0.107848</td>\n",
       "      <td>0.016765</td>\n",
       "      <td>0.001388</td>\n",
       "      <td>0.000961</td>\n",
       "      <td>0.013134</td>\n",
       "      <td>0.039616</td>\n",
       "    </tr>\n",
       "    <tr>\n",
       "      <th>PRT</th>\n",
       "      <td>0.399149</td>\n",
       "      <td>0.013425</td>\n",
       "      <td>0.057302</td>\n",
       "      <td>0.249509</td>\n",
       "      <td>0.099869</td>\n",
       "      <td>0.018664</td>\n",
       "      <td>0.084807</td>\n",
       "      <td>0.020301</td>\n",
       "      <td>0.001965</td>\n",
       "      <td>0.002292</td>\n",
       "      <td>0.009496</td>\n",
       "      <td>0.043222</td>\n",
       "    </tr>\n",
       "    <tr>\n",
       "      <th>CONJ</th>\n",
       "      <td>0.159366</td>\n",
       "      <td>0.008388</td>\n",
       "      <td>0.041007</td>\n",
       "      <td>0.346692</td>\n",
       "      <td>0.116962</td>\n",
       "      <td>0.059180</td>\n",
       "      <td>0.117428</td>\n",
       "      <td>0.053122</td>\n",
       "      <td>0.005126</td>\n",
       "      <td>0.000466</td>\n",
       "      <td>0.054986</td>\n",
       "      <td>0.037279</td>\n",
       "    </tr>\n",
       "    <tr>\n",
       "      <th>ADV</th>\n",
       "      <td>0.346192</td>\n",
       "      <td>0.022281</td>\n",
       "      <td>0.030263</td>\n",
       "      <td>0.032923</td>\n",
       "      <td>0.066511</td>\n",
       "      <td>0.015298</td>\n",
       "      <td>0.129365</td>\n",
       "      <td>0.118390</td>\n",
       "      <td>0.013967</td>\n",
       "      <td>0.006984</td>\n",
       "      <td>0.081809</td>\n",
       "      <td>0.136016</td>\n",
       "    </tr>\n",
       "    <tr>\n",
       "      <th>.</th>\n",
       "      <td>0.089606</td>\n",
       "      <td>0.026683</td>\n",
       "      <td>0.080772</td>\n",
       "      <td>0.222212</td>\n",
       "      <td>0.174074</td>\n",
       "      <td>0.065897</td>\n",
       "      <td>0.044262</td>\n",
       "      <td>0.091139</td>\n",
       "      <td>0.002344</td>\n",
       "      <td>0.057964</td>\n",
       "      <td>0.053097</td>\n",
       "      <td>0.091860</td>\n",
       "    </tr>\n",
       "  </tbody>\n",
       "</table>\n",
       "</div>"
      ],
      "text/plain": [
       "          VERB         X       NUM      NOUN       DET      PRON       ADJ  \\\n",
       "VERB  0.168742  0.217388  0.023272  0.111146  0.134729  0.035025  0.064679   \n",
       "X     0.204883  0.074836  0.002713  0.062390  0.054572  0.055689  0.016435   \n",
       "NUM   0.017272  0.212031  0.184634  0.352591  0.003276  0.001489  0.034247   \n",
       "NOUN  0.146341  0.029217  0.009507  0.263649  0.012908  0.004388  0.012396   \n",
       "DET   0.039966  0.045658  0.022042  0.637520  0.005329  0.003754  0.205038   \n",
       "PRON  0.486883  0.090664  0.007330  0.212191  0.008873  0.008102  0.073302   \n",
       "ADJ   0.011513  0.020888  0.020724  0.699342  0.004605  0.000658  0.067105   \n",
       "ADP   0.008329  0.035558  0.062467  0.320128  0.324399  0.069407  0.107848   \n",
       "PRT   0.399149  0.013425  0.057302  0.249509  0.099869  0.018664  0.084807   \n",
       "CONJ  0.159366  0.008388  0.041007  0.346692  0.116962  0.059180  0.117428   \n",
       "ADV   0.346192  0.022281  0.030263  0.032923  0.066511  0.015298  0.129365   \n",
       ".     0.089606  0.026683  0.080772  0.222212  0.174074  0.065897  0.044262   \n",
       "\n",
       "           ADP       PRT      CONJ       ADV         .  \n",
       "VERB  0.092310  0.031367  0.005526  0.081102  0.034714  \n",
       "X     0.144567  0.184937  0.010372  0.024573  0.164034  \n",
       "NUM   0.034842  0.026206  0.013996  0.002978  0.116438  \n",
       "NOUN  0.177350  0.044246  0.042491  0.017296  0.240209  \n",
       "DET   0.009325  0.000242  0.000484  0.012716  0.017924  \n",
       "PRON  0.022762  0.011188  0.004630  0.034722  0.039352  \n",
       "ADJ   0.077303  0.010691  0.017105  0.004605  0.065461  \n",
       "ADP   0.016765  0.001388  0.000961  0.013134  0.039616  \n",
       "PRT   0.020301  0.001965  0.002292  0.009496  0.043222  \n",
       "CONJ  0.053122  0.005126  0.000466  0.054986  0.037279  \n",
       "ADV   0.118390  0.013967  0.006984  0.081809  0.136016  \n",
       ".     0.091139  0.002344  0.057964  0.053097  0.091860  "
      ]
     },
     "execution_count": 18,
     "metadata": {},
     "output_type": "execute_result"
    }
   ],
   "source": [
    "tags_df"
   ]
  },
  {
   "cell_type": "markdown",
   "metadata": {
    "id": "nOVKcZFI5itA"
   },
   "source": [
    "**Exploratory Data Analysis (EDA)**"
   ]
  },
  {
   "cell_type": "code",
   "execution_count": 19,
   "metadata": {
    "id": "Wpsp0XTG5DrN"
   },
   "outputs": [],
   "source": [
    "# Importing libraries for heatmap\n",
    "import matplotlib.pyplot as plt\n",
    "import seaborn as sns"
   ]
  },
  {
   "cell_type": "code",
   "execution_count": 20,
   "metadata": {
    "colab": {
     "base_uri": "https://localhost:8080/",
     "height": 483
    },
    "id": "139shfoE6UHO",
    "outputId": "88b35826-4f4f-41f8-dc43-b9326b38b113"
   },
   "outputs": [
    {
     "data": {
      "image/png": "[encoded data removed]",
      "text/plain": [
       "<Figure size 864x576 with 2 Axes>"
      ]
     },
     "metadata": {
      "needs_background": "light"
     },
     "output_type": "display_data"
    }
   ],
   "source": [
    "# Heatmap of tags matrix\n",
    "# T(i, j) means P(tag j given tag i)\n",
    "plt.figure(figsize=(12, 8))\n",
    "sns.heatmap(tags_df, annot = True)\n",
    "plt.show()"
   ]
  },
  {
   "cell_type": "markdown",
   "metadata": {
    "id": "fsPCNY7S7WHu"
   },
   "source": [
    "**Vanilla Viterbi Algorithm**\n",
    "\n",
    "The steps are as follows:\n",
    "\n",
    "1. Given a sequence of words.\n",
    "2. Iterate through the sequence.\n",
    "3. For each word (starting from first word in sequence) calculate the product of emission probabilties and transition probabilties for all possible tags.\n",
    "4. Assign the tag which has maximum probability obtained in step 3 above.\n",
    "5. Move to the next word in sequence to repeat steps 3 and 4 above."
   ]
  },
  {
   "cell_type": "code",
   "execution_count": 21,
   "metadata": {
    "id": "XetVy_zZ6fkT"
   },
   "outputs": [],
   "source": [
    "# Vanilla Viterbi Algorithm\n",
    "def Viterbi(words, train_bag = train_tagged_words):\n",
    "    state = []\n",
    "    \n",
    "    T = list(set([pair[1] for pair in train_bag]))\n",
    "    \n",
    "    for key, word in enumerate(words):\n",
    "        #initialise list of probability column for a given observation\n",
    "        p = [] \n",
    "        for tag in T:\n",
    "            if key == 0:\n",
    "                transition_p = tags_df.loc['.', tag]\n",
    "            else:\n",
    "                transition_p = tags_df.loc[state[-1], tag]\n",
    "                \n",
    "            # compute emission and state probabilities\n",
    "            emission_p = word_given_tag(words[key], tag)[0] / word_given_tag(words[key], tag)[1]\n",
    "            state_probability = emission_p * transition_p    \n",
    "            p.append(state_probability)\n",
    "            \n",
    "        pmax = max(p)\n",
    "        # getting state for which probability is maximum\n",
    "        state_max = T[p.index(pmax)] \n",
    "        state.append(state_max)\n",
    "    return list(zip(words, state))"
   ]
  },
  {
   "cell_type": "code",
   "execution_count": 22,
   "metadata": {
    "id": "xNbUjbe-7647"
   },
   "outputs": [],
   "source": [
    "# Testing our Vanilla Viterbi algorithm on a few sample sentences of test dataset\n",
    "\n",
    "random.seed(1234)\n",
    "\n",
    "# Choosing random 5 sents\n",
    "rndom = [random.randint(1, len(test_set)) for x in range(5)]\n",
    "\n",
    "# List of sents\n",
    "test_run = [test_set[i] for i in rndom]\n",
    "\n",
    "# List of tagged words\n",
    "test_run_base = [tup for sent in test_run for tup in sent]\n",
    "\n",
    "# List of untagged words\n",
    "test_tagged_words = [tup[0] for sent in test_run for tup in sent]"
   ]
  },
  {
   "cell_type": "code",
   "execution_count": 23,
   "metadata": {
    "colab": {
     "base_uri": "https://localhost:8080/"
    },
    "id": "Hu1Gkaay-xrA",
    "outputId": "b8c7edbb-f552-4402-87a4-44feefd59f77"
   },
   "outputs": [
    {
     "name": "stdout",
     "output_type": "stream",
     "text": [
      "Time taken in seconds:  20.266857147216797\n",
      "Vanilla Viterbi Algorithm Accuracy:  93.10344827586206\n"
     ]
    }
   ],
   "source": [
    "# Tagging the test sentences\n",
    "start = time.time()\n",
    "tagged_seq = Viterbi(test_tagged_words)\n",
    "end = time.time()\n",
    "difference = end-start\n",
    "\n",
    "print(\"Time taken in seconds: \", difference)\n",
    "\n",
    "# Checking Accuracy\n",
    "vanilla_viterbi_word_check = [i for i, j in zip(tagged_seq, test_run_base) if i == j] \n",
    "vanilla_viterbi_accuracy = len(vanilla_viterbi_word_check) / len(tagged_seq) * 100\n",
    "print('Vanilla Viterbi Algorithm Accuracy: ', vanilla_viterbi_accuracy)"
   ]
  },
  {
   "cell_type": "code",
   "execution_count": 24,
   "metadata": {
    "colab": {
     "base_uri": "https://localhost:8080/"
    },
    "id": "XbCX-CLl_CHz",
    "outputId": "6ded458f-9273-4876-c5d0-01f94a2a9670"
   },
   "outputs": [
    {
     "data": {
      "text/plain": [
       "[(('Claude', 'VERB'), ('Claude', 'NOUN')),\n",
       " (('weird', 'VERB'), ('weird', 'ADJ')),\n",
       " (('Story', 'VERB'), ('Story', 'NOUN')),\n",
       " (('Women', 'VERB'), ('Women', 'NOUN')),\n",
       " (('more', 'ADV'), ('more', 'ADJ')),\n",
       " (('ECONOMIC', 'VERB'), ('ECONOMIC', 'ADJ')),\n",
       " (('GROWTH', 'VERB'), ('GROWTH', 'NOUN')),\n",
       " (('off', 'PRT'), ('off', 'ADP'))]"
      ]
     },
     "execution_count": 24,
     "metadata": {},
     "output_type": "execute_result"
    }
   ],
   "source": [
    "# Checking the incorrectly tagged words\n",
    "[j for i, j in enumerate(zip(tagged_seq, test_run_base)) if j[0] != j[1]]"
   ]
  },
  {
   "cell_type": "code",
   "execution_count": 25,
   "metadata": {
    "colab": {
     "base_uri": "https://localhost:8080/"
    },
    "id": "fjghT_NpE1rf",
    "outputId": "82a160e6-287d-4413-9492-7f1da4ff3173"
   },
   "outputs": [
    {
     "name": "stdout",
     "output_type": "stream",
     "text": [
      "Total Unknown words : 7\n",
      "\n",
      "\n",
      "Unknown Words : ['Women', 'GROWTH', 'ECONOMIC', 'Claude', 'weird', 'APPEARS', 'Story']\n"
     ]
    }
   ],
   "source": [
    "# Checking for unknown words \n",
    "\n",
    "test_vocabulary_set = set([t for t in test_tagged_words])\n",
    "\n",
    "unknown_words = list(test_vocabulary_set - vocab)\n",
    "print(\"Total Unknown words :\", len(unknown_words))\n",
    "print(\"\\n\")\n",
    "print(\"Unknown Words :\", unknown_words)"
   ]
  },
  {
   "cell_type": "markdown",
   "metadata": {
    "id": "ZWD4mpIMEXao"
   },
   "source": [
    "We see that the incorrectly marked words are mostly not there in the corpus or in other words are unknown words. So, the alogrithm marked them with the tag that occured first ie. VERB. Here, the algorithm is not using any type of justification or basis to tag the words."
   ]
  },
  {
   "cell_type": "markdown",
   "metadata": {
    "id": "Cf2SIpSVIBGP"
   },
   "source": [
    "**Vanilla Viterbi Modification - 1**"
   ]
  },
  {
   "cell_type": "markdown",
   "metadata": {
    "id": "mFPNOHgtJQGR"
   },
   "source": [
    "On observing that we see that the emission probability becomes zero in case of unknown words. What we can do here, is to consider only the transmission probablity in such a situation "
   ]
  },
  {
   "cell_type": "code",
   "execution_count": 26,
   "metadata": {
    "id": "bA9lI-XQBanp"
   },
   "outputs": [],
   "source": [
    "# Using transition probability of tags when emission probability is zero (in case of unknown words)\n",
    "\n",
    "def Viterbi_for_Unknown_Words_with_Transmission_Prob(words, train_bag = train_tagged_words):\n",
    "    state = []\n",
    "    T = list(set([pair[1] for pair in train_bag]))\n",
    "    \n",
    "    for key, word in enumerate(words):\n",
    "        #initialise list of probability column for a given observation\n",
    "        p = [] \n",
    "        p_transition =[] # list for storing transition probabilities\n",
    "        for tag in T:\n",
    "            if key == 0:\n",
    "                transition_p = tags_df.loc['.', tag]\n",
    "            else:\n",
    "                transition_p = tags_df.loc[state[-1], tag]\n",
    "                \n",
    "            # compute emission and state probabilities\n",
    "            emission_p = word_given_tag(words[key], tag)[0]/word_given_tag(words[key], tag)[1]\n",
    "            state_probability = emission_p * transition_p    \n",
    "            p.append(state_probability)\n",
    "            p_transition.append(transition_p)\n",
    "            \n",
    "        pmax = max(p)\n",
    "        state_max = T[p.index(pmax)] \n",
    "        \n",
    "      \n",
    "        # if probability is zero (unknown word) then use transition probability\n",
    "        if(pmax==0):\n",
    "            pmax = max(p_transition)\n",
    "            state_max = T[p_transition.index(pmax)]\n",
    "                           \n",
    "        else:\n",
    "            state_max = T[p.index(pmax)] \n",
    "        \n",
    "        state.append(state_max)\n",
    "    return list(zip(words, state))"
   ]
  },
  {
   "cell_type": "code",
   "execution_count": 27,
   "metadata": {
    "colab": {
     "base_uri": "https://localhost:8080/"
    },
    "id": "po707spOOOlN",
    "outputId": "1724f182-8966-4fd5-9895-d1d4cc821551"
   },
   "outputs": [
    {
     "name": "stdout",
     "output_type": "stream",
     "text": [
      "Time taken in seconds:  22.850938320159912\n",
      "Vanilla Viterbi Algorithm Accuracy with Modification for Unknown Words using Transmission Probability:  94.82758620689656\n"
     ]
    }
   ],
   "source": [
    "# Tagging the test sentences\n",
    "start = time.time()\n",
    "tagged_seq = Viterbi_for_Unknown_Words_with_Transmission_Prob(test_tagged_words)\n",
    "end = time.time()\n",
    "difference = end-start\n",
    "\n",
    "print(\"Time taken in seconds: \", difference)\n",
    "\n",
    "# Checking Accuracy\n",
    "vanilla_viterbi_mod_1_word_check = [i for i, j in zip(tagged_seq, test_run_base) if i == j] \n",
    "vanilla_viterbi_mod_1_accuracy = len(vanilla_viterbi_mod_1_word_check) / len(tagged_seq) * 100\n",
    "print('Vanilla Viterbi Algorithm Accuracy with Modification for Unknown Words using Transmission Probability: ', vanilla_viterbi_mod_1_accuracy)"
   ]
  },
  {
   "cell_type": "markdown",
   "metadata": {
    "id": "-VO6qBiuTecp"
   },
   "source": [
    "**Adding Tag occurance probability weights:** We will apply weights based on the probability of tag occurance to the transition probabilities of tags and then use the resulting probability for predicting unknown words."
   ]
  },
  {
   "cell_type": "code",
   "execution_count": 28,
   "metadata": {
    "colab": {
     "base_uri": "https://localhost:8080/"
    },
    "id": "FABhEQTBO7-g",
    "outputId": "7f2af83c-21fc-4838-90ab-96cfe3cba5db"
   },
   "outputs": [
    {
     "data": {
      "text/plain": [
       "[('VERB', 0.1346552916762739),\n",
       " ('X', 0.06568218500429707),\n",
       " ('NUM', 0.03519399668811705),\n",
       " ('NOUN', 0.28661412371350115),\n",
       " ('DET', 0.0865386630892741),\n",
       " ('PRON', 0.027165824721738948),\n",
       " ('ADJ', 0.06372230490284445),\n",
       " ('ADP', 0.09815121470643721),\n",
       " ('PRT', 0.032007881442974825),\n",
       " ('CONJ', 0.022491458276563188),\n",
       " ('ADV', 0.03151529125704823),\n",
       " ('.', 0.11626176452092984)]"
      ]
     },
     "execution_count": 28,
     "metadata": {},
     "output_type": "execute_result"
    }
   ],
   "source": [
    "# Creating a list containing tuples of POS tags and POS tag occurance probability, based on training data\n",
    "tag_prob = []\n",
    "total_tag = len([tag for word,tag in train_tagged_words])\n",
    "for t in training_pos_tag_set:\n",
    "    each_tag = [tag for word,tag in train_tagged_words if tag==t]\n",
    "    tag_prob.append((t,len(each_tag)/total_tag))\n",
    "\n",
    "tag_prob"
   ]
  },
  {
   "cell_type": "code",
   "execution_count": 29,
   "metadata": {
    "id": "DOBIgpVKTxdN"
   },
   "outputs": [],
   "source": [
    "# Using transition probability of tags when emission probability is zero (in case of unknown words)\n",
    "\n",
    "def Viterbi_for_Unknown_Words_with_Transmission_Weighted_Prob(words, train_bag = train_tagged_words):\n",
    "    state = []\n",
    "    T = list(set([pair[1] for pair in train_bag]))\n",
    "    \n",
    "    for key, word in enumerate(words):\n",
    "        #initialise list of probability column for a given observation\n",
    "        p = [] \n",
    "        p_transition =[] # list for storing transition probabilities\n",
    "       \n",
    "        for tag in T:\n",
    "            if key == 0:\n",
    "                transition_p = tags_df.loc['.', tag]\n",
    "            else:\n",
    "                transition_p = tags_df.loc[state[-1], tag]\n",
    "                \n",
    "            # compute emission and state probabilities\n",
    "            emission_p = word_given_tag(words[key], tag)[0]/word_given_tag(words[key], tag)[1]\n",
    "            state_probability = emission_p * transition_p    \n",
    "            p.append(state_probability)\n",
    "            \n",
    "            # find POS tag occurance probability\n",
    "            tag_p = [pair[1] for pair in tag_prob if pair[0]==tag ]\n",
    "            \n",
    "            # calculate the transition prob weighted by tag occurance probability.\n",
    "            transition_p = tag_p[0]*transition_p             \n",
    "            p_transition.append(transition_p)\n",
    "            \n",
    "        pmax = max(p)\n",
    "        state_max = T[p.index(pmax)] \n",
    "        \n",
    "      \n",
    "        # if probability is zero (unknown word) then use weighted transition probability\n",
    "        if(pmax==0):\n",
    "            pmax = max(p_transition)\n",
    "            state_max = T[p_transition.index(pmax)]                 \n",
    "                           \n",
    "        else:\n",
    "            state_max = T[p.index(pmax)] \n",
    "        \n",
    "        state.append(state_max)\n",
    "    return list(zip(words, state))"
   ]
  },
  {
   "cell_type": "code",
   "execution_count": 30,
   "metadata": {
    "colab": {
     "base_uri": "https://localhost:8080/"
    },
    "id": "4jjAqldYWQjM",
    "outputId": "ee1f9a6b-c6eb-43bb-f9ef-35f31c60d812"
   },
   "outputs": [
    {
     "name": "stdout",
     "output_type": "stream",
     "text": [
      "Time taken in seconds:  18.893479824066162\n",
      "Vanilla Viterbi Algorithm Accuracy with Modification for Unknown Words using Transmission Probability with weights:  95.6896551724138\n"
     ]
    }
   ],
   "source": [
    "# Tagging the test sentences\n",
    "start = time.time()\n",
    "tagged_seq = Viterbi_for_Unknown_Words_with_Transmission_Weighted_Prob(test_tagged_words)\n",
    "end = time.time()\n",
    "difference = end-start\n",
    "\n",
    "print(\"Time taken in seconds: \", difference)\n",
    "\n",
    "# Checking Accuracy\n",
    "vanilla_viterbi_mod_1_word_weighted_check = [i for i, j in zip(tagged_seq, test_run_base) if i == j] \n",
    "vanilla_viterbi_mod_1_weighted_accuracy = len(vanilla_viterbi_mod_1_word_weighted_check) / len(tagged_seq) * 100\n",
    "print('Vanilla Viterbi Algorithm Accuracy with Modification for Unknown Words using Transmission Probability with weights: ', vanilla_viterbi_mod_1_weighted_accuracy)"
   ]
  },
  {
   "cell_type": "markdown",
   "metadata": {
    "id": "4lAi9_ENkaWR"
   },
   "source": [
    "We can see that using transmission probablity gives us flexibility and generalizibility in terms of words which are not present in the training corpus."
   ]
  },
  {
   "cell_type": "markdown",
   "metadata": {
    "id": "0La9pelGk1-m"
   },
   "source": [
    "**Vanilla Viterbi Modification - 2**\n",
    "\n",
    "Here we will explore the n-gram tagging approach to see if we are able to get a better accuracy in terms of the data in hand"
   ]
  },
  {
   "cell_type": "code",
   "execution_count": 31,
   "metadata": {
    "colab": {
     "base_uri": "https://localhost:8080/"
    },
    "id": "n-UXsctuWwCd",
    "outputId": "dbad8809-fc71-424f-af45-e3c57b1b09de"
   },
   "outputs": [
    {
     "name": "stdout",
     "output_type": "stream",
     "text": [
      "The accuracy of the Unigram Tagger is - 0.8962371721778791\n"
     ]
    }
   ],
   "source": [
    "# Unigram tagger\n",
    "\n",
    "unigram_tagger = nltk.UnigramTagger(train_set)\n",
    "accuracy_unigram_tagger = unigram_tagger.evaluate(test_set)\n",
    "print(\"The accuracy of the Unigram Tagger is -\", accuracy_unigram_tagger)"
   ]
  },
  {
   "cell_type": "code",
   "execution_count": 32,
   "metadata": {
    "colab": {
     "base_uri": "https://localhost:8080/"
    },
    "id": "FwvY5xKOljJT",
    "outputId": "bb7dc7c8-2720-47cf-ef4e-a81ab21e9544"
   },
   "outputs": [
    {
     "name": "stdout",
     "output_type": "stream",
     "text": [
      "The accuracy of the Bigram Tagger backed by unigram tagger is - 0.8998479665526415\n"
     ]
    }
   ],
   "source": [
    "# Bigram tagger\n",
    "\n",
    "bigram_tagger = nltk.BigramTagger(train_set, backoff = unigram_tagger)\n",
    "bigram_tagger.evaluate(test_set)\n",
    "accuracy_bigram_tagger = bigram_tagger.evaluate(test_set)\n",
    "print(\"The accuracy of the Bigram Tagger backed by unigram tagger is -\", accuracy_bigram_tagger)"
   ]
  },
  {
   "cell_type": "code",
   "execution_count": 33,
   "metadata": {
    "colab": {
     "base_uri": "https://localhost:8080/"
    },
    "id": "SiQXWNWTmoPx",
    "outputId": "af3d1837-9032-4bab-d9fd-f5df09d251c6"
   },
   "outputs": [
    {
     "name": "stdout",
     "output_type": "stream",
     "text": [
      "The accuracy of the Bigram Tagger backed by unigram tagger is - 0.8985176738882554\n"
     ]
    }
   ],
   "source": [
    "# Trigram tagger\n",
    "\n",
    "trigram_tagger = nltk.TrigramTagger(train_set, backoff = bigram_tagger)\n",
    "trigram_tagger.evaluate(test_set)\n",
    "accuracy_trigram_tagger = trigram_tagger.evaluate(test_set)\n",
    "print(\"The accuracy of the Bigram Tagger backed by unigram tagger is -\", accuracy_trigram_tagger)"
   ]
  },
  {
   "cell_type": "markdown",
   "metadata": {
    "id": "dEd_jZGCnfGR"
   },
   "source": [
    "Now that we have seen the performances of a simple unigram, bigram and trigram tagger, we will try to implement a Viterbi tagger along with a Trigram Tagger backed by a rule based tagger for the scenario of unknown words."
   ]
  },
  {
   "cell_type": "code",
   "execution_count": 34,
   "metadata": {
    "id": "zwoJw9ATnF3w"
   },
   "outputs": [],
   "source": [
    "# A trigram tagger backed off by a rule based tagger.\n",
    "\n",
    "def trigram_tagger(word, train_set = train_set):\n",
    "    \n",
    "    patterns = [\n",
    "    (r'[aA-zZ]+(ed|ing|es)$', 'VERB'), # Any word ending with 'ing' or 'ed' is a verb\n",
    "\n",
    "    (r'.*ly$', 'ADV'),\n",
    "        \n",
    "    (r'^([0-9]|[aA-zZ])+\\-[aA-zZ]*$','ADJ'),\n",
    "    (r'.*able$', 'ADJ'), \n",
    "    (r'.*ful$', 'ADJ'),\n",
    "    (r'.*ous$', 'ADJ'),\n",
    "        \n",
    "    (r'^[aA-zZ].*[0-9]+','NOUN'),     # Alpha Numeric\n",
    "    (r'.*ness$', 'NOUN'),\n",
    "    (r'.*\\'s$', 'NOUN'),              # possessive nouns - words ending with 's\n",
    "    (r'.*s$', 'NOUN'),                # plural nouns\n",
    "    (r'.*ers$', 'NOUN'),              # eg.- kinderganteners, autobioghapgers\n",
    "    (r'.*ment$', 'NOUN'),\n",
    "    (r'.*town$', 'NOUN'),\n",
    "        \n",
    "    (r'^(0|([*|-|$].*))','X'), # Any special character combination\n",
    "    (r'.*ould$', 'X'),\n",
    "        \n",
    "    (r'(The|the|A|a|An|an|That|that|This|this|Those|those|These|these)$', 'DET'), # That/this/these/those belong to the category of Demonstrative determiners\n",
    "    (r'[0-9].?[,\\/]?[0-9]*','NUM'), # Numbers \n",
    "        \n",
    "    (r'.*', 'NOUN')\n",
    "    ]\n",
    "\n",
    "    regex_based_tagger = nltk.RegexpTagger(patterns)\n",
    "\n",
    "    # trigram backed up by the regex tagger\n",
    "    trigram_regex_tagger = nltk.TrigramTagger(train_set, backoff = regex_based_tagger)\n",
    "    return trigram_regex_tagger.tag_sents([[(word)]])"
   ]
  },
  {
   "cell_type": "code",
   "execution_count": 35,
   "metadata": {
    "id": "PN1ap7L4o24A"
   },
   "outputs": [],
   "source": [
    "# Viterbi with handling for unknown words from regex tagger\n",
    "\n",
    "def Viterbi_Trigram_Tagger(words, train_bag = train_tagged_words):\n",
    "    state = []\n",
    "    T = list(set([pair[1] for pair in train_bag]))\n",
    "    \n",
    "    for key, word in enumerate(words):\n",
    "        # unknown words from trigram taggr\n",
    "        if word not in training_vocabulary_set:\n",
    "            unk_word_tag=trigram_tagger(word)\n",
    "            for sent in unk_word_tag:\n",
    "                for tup in sent:\n",
    "                    state.append(tup[1])\n",
    "        # rest remains same            \n",
    "        else:            \n",
    "            p = [] \n",
    "            for tag in T:\n",
    "                if key == 0:\n",
    "                    transition_p = tags_df.loc['.', tag]\n",
    "                else:\n",
    "                    transition_p = tags_df.loc[state[-1], tag]\n",
    "                \n",
    "            # compute emission and state probabilities\n",
    "                emission_p = word_given_tag(words[key], tag)[0]/word_given_tag(words[key], tag)[1]\n",
    "                state_probability = emission_p * transition_p    \n",
    "                p.append(state_probability)\n",
    "            \n",
    "            pmax = max(p)\n",
    "            # getting state for which probability is maximum\n",
    "            state_max = T[p.index(pmax)] \n",
    "            state.append(state_max)\n",
    "            \n",
    "    return list(zip(words, state))"
   ]
  },
  {
   "cell_type": "code",
   "execution_count": 36,
   "metadata": {
    "colab": {
     "base_uri": "https://localhost:8080/"
    },
    "id": "9AsssJINq3xR",
    "outputId": "66a47aab-4772-46b6-a843-0c29412d183f"
   },
   "outputs": [
    {
     "name": "stdout",
     "output_type": "stream",
     "text": [
      "Time taken in seconds:  43.93954634666443\n",
      "Modified Viterbi Trigram Tagger Accuracy:  95.6896551724138\n"
     ]
    }
   ],
   "source": [
    "# Tagging the test sentences\n",
    "start = time.time()\n",
    "tagged_seq = Viterbi_Trigram_Tagger(test_tagged_words)\n",
    "end = time.time()\n",
    "difference = end-start\n",
    "\n",
    "print(\"Time taken in seconds: \", difference)\n",
    "\n",
    "# Accuracy\n",
    "viterbi_trigram_word_check = [i for i, j in zip(tagged_seq, test_run_base) if i == j] \n",
    "viterbi_trigram_accuracy = len(viterbi_trigram_word_check)/len(tagged_seq) * 100\n",
    "print('Modified Viterbi Trigram Tagger Accuracy: ', viterbi_trigram_accuracy)"
   ]
  },
  {
   "cell_type": "markdown",
   "metadata": {
    "id": "2BeHL1KqE8dP"
   },
   "source": [
    "**Comparing the tagging accuracy of the different algorithms used for tagging**"
   ]
  },
  {
   "cell_type": "code",
   "execution_count": 37,
   "metadata": {
    "colab": {
     "base_uri": "https://localhost:8080/",
     "height": 297
    },
    "id": "fKby97ZAq_bw",
    "outputId": "056bf4b4-293e-4f60-f37b-29c84563cf1c"
   },
   "outputs": [
    {
     "data": {
      "text/html": [
       "<div>\n",
       "<style scoped>\n",
       "    .dataframe tbody tr th:only-of-type {\n",
       "        vertical-align: middle;\n",
       "    }\n",
       "\n",
       "    .dataframe tbody tr th {\n",
       "        vertical-align: top;\n",
       "    }\n",
       "\n",
       "    .dataframe thead th {\n",
       "        text-align: right;\n",
       "    }\n",
       "</style>\n",
       "<table border=\"1\" class=\"dataframe\">\n",
       "  <thead>\n",
       "    <tr style=\"text-align: right;\">\n",
       "      <th></th>\n",
       "      <th>Tagging_Accuracy</th>\n",
       "    </tr>\n",
       "    <tr>\n",
       "      <th>Tagging_Algorithm</th>\n",
       "      <th></th>\n",
       "    </tr>\n",
       "  </thead>\n",
       "  <tbody>\n",
       "    <tr>\n",
       "      <th>Vanilla Viterbi</th>\n",
       "      <td>93.103448</td>\n",
       "    </tr>\n",
       "    <tr>\n",
       "      <th>Optimized Vanilla Viterbi</th>\n",
       "      <td>94.827586</td>\n",
       "    </tr>\n",
       "    <tr>\n",
       "      <th>Optimized Vanilla Viterbi with weights</th>\n",
       "      <td>95.689655</td>\n",
       "    </tr>\n",
       "    <tr>\n",
       "      <th>Unigram Tagger</th>\n",
       "      <td>89.623717</td>\n",
       "    </tr>\n",
       "    <tr>\n",
       "      <th>Bigram Tagger + Unigram_tagger</th>\n",
       "      <td>89.984797</td>\n",
       "    </tr>\n",
       "    <tr>\n",
       "      <th>Trigram Tagger + Bigram_tagger</th>\n",
       "      <td>89.851767</td>\n",
       "    </tr>\n",
       "    <tr>\n",
       "      <th>Viterbi + Trigram_tagger</th>\n",
       "      <td>95.689655</td>\n",
       "    </tr>\n",
       "  </tbody>\n",
       "</table>\n",
       "</div>"
      ],
      "text/plain": [
       "                                        Tagging_Accuracy\n",
       "Tagging_Algorithm                                       \n",
       "Vanilla Viterbi                                93.103448\n",
       "Optimized Vanilla Viterbi                      94.827586\n",
       "Optimized Vanilla Viterbi with weights         95.689655\n",
       "Unigram Tagger                                 89.623717\n",
       "Bigram Tagger + Unigram_tagger                 89.984797\n",
       "Trigram Tagger + Bigram_tagger                 89.851767\n",
       "Viterbi + Trigram_tagger                       95.689655"
      ]
     },
     "execution_count": 37,
     "metadata": {},
     "output_type": "execute_result"
    }
   ],
   "source": [
    "acccuracy_data = [['Vanilla Viterbi', vanilla_viterbi_accuracy], \n",
    "                  ['Optimized Vanilla Viterbi', vanilla_viterbi_mod_1_accuracy],\n",
    "                  ['Optimized Vanilla Viterbi with weights', vanilla_viterbi_mod_1_weighted_accuracy],\n",
    "                  ['Unigram Tagger', accuracy_unigram_tagger * 100],\n",
    "                  ['Bigram Tagger + Unigram_tagger', accuracy_bigram_tagger * 100],\n",
    "                  ['Trigram Tagger + Bigram_tagger', accuracy_trigram_tagger * 100],\n",
    "                  ['Viterbi + Trigram_tagger', viterbi_trigram_accuracy]]\n",
    "\n",
    "acccuracy_data_df = pd.DataFrame(acccuracy_data, columns = ['Tagging_Algorithm', 'Tagging_Accuracy'])\n",
    "\n",
    "acccuracy_data_df.set_index('Tagging_Algorithm', drop = True, inplace = True)\n",
    "\n",
    "acccuracy_data_df"
   ]
  },
  {
   "cell_type": "code",
   "execution_count": 39,
   "metadata": {
    "colab": {
     "base_uri": "https://localhost:8080/",
     "height": 298
    },
    "id": "bVWMfmHGHlbC",
    "outputId": "678b70f9-fee4-4b5d-a29b-2a5498b9febb"
   },
   "outputs": [
    {
     "data": {
      "text/plain": [
       "<matplotlib.axes._subplots.AxesSubplot at 0x20ca6e09470>"
      ]
     },
     "execution_count": 39,
     "metadata": {},
     "output_type": "execute_result"
    },
    {
     "data": {
      "image/png": "[encoded data removed]",
      "text/plain": [
       "<Figure size 432x288 with 1 Axes>"
      ]
     },
     "metadata": {
      "needs_background": "light"
     },
     "output_type": "display_data"
    }
   ],
   "source": [
    "acccuracy_data_df.plot.line(rot = 90, legend = False)"
   ]
  },
  {
   "cell_type": "markdown",
   "metadata": {
    "id": "gpGDi2K3J24a"
   },
   "source": [
    "**List down cases which were incorrectly tagged by original POS tagger and got corrected by your modifications**"
   ]
  },
  {
   "cell_type": "code",
   "execution_count": 40,
   "metadata": {
    "colab": {
     "base_uri": "https://localhost:8080/"
    },
    "id": "a21U9zwaIyiE",
    "outputId": "ea754b61-db26-43fa-bb4b-ea5935f3fe62"
   },
   "outputs": [
    {
     "name": "stderr",
     "output_type": "stream",
     "text": [
      "[nltk_data] Downloading package punkt to\n",
      "[nltk_data]     C:\\Users\\ASUS\\AppData\\Roaming\\nltk_data...\n",
      "[nltk_data]   Unzipping tokenizers\\punkt.zip.\n"
     ]
    },
    {
     "data": {
      "text/plain": [
       "True"
      ]
     },
     "execution_count": 40,
     "metadata": {},
     "output_type": "execute_result"
    }
   ],
   "source": [
    "from nltk.tokenize import word_tokenize\n",
    "nltk.download('punkt')"
   ]
  },
  {
   "cell_type": "code",
   "execution_count": 41,
   "metadata": {
    "colab": {
     "base_uri": "https://localhost:8080/"
    },
    "id": "koBueP65J66E",
    "outputId": "da54e102-b8be-41e0-c130-ff60df92552a"
   },
   "outputs": [
    {
     "name": "stdout",
     "output_type": "stream",
     "text": [
      "[('Google', 'VERB'), ('and', 'CONJ'), ('Twitter', 'VERB'), ('made', 'VERB'), ('a', 'DET'), ('deal', 'NOUN'), ('in', 'ADP'), ('2015', 'VERB'), ('that', 'ADP'), ('gave', 'VERB'), ('Google', 'VERB'), ('access', 'NOUN'), ('to', 'PRT'), ('Twitter', 'VERB'), (\"'s\", 'PRT'), ('firehose', 'VERB'), ('.', '.')]\n",
      "----------------------------------------------------------------------------------------------------\n",
      "[('Google', 'NOUN'), ('and', 'CONJ'), ('Twitter', 'NOUN'), ('made', 'VERB'), ('a', 'DET'), ('deal', 'NOUN'), ('in', 'ADP'), ('2015', 'NUM'), ('that', 'ADP'), ('gave', 'VERB'), ('Google', 'NOUN'), ('access', 'NOUN'), ('to', 'PRT'), ('Twitter', 'NOUN'), (\"'s\", 'PRT'), ('firehose', 'NOUN'), ('.', '.')]\n"
     ]
    }
   ],
   "source": [
    "## Testing\n",
    "sentence_test_1 = 'Google and Twitter made a deal in 2015 that gave Google access to Twitter\\'s firehose.'\n",
    "words = word_tokenize(sentence_test_1)\n",
    "tagged_seq = Viterbi(words)\n",
    "print(tagged_seq)\n",
    "print('----------------------------------------------------------------------------------------------------')\n",
    "tagged_seq_mod = Viterbi_Trigram_Tagger(words)\n",
    "print(tagged_seq_mod)"
   ]
  },
  {
   "cell_type": "code",
   "execution_count": 42,
   "metadata": {
    "colab": {
     "base_uri": "https://localhost:8080/"
    },
    "id": "XLiJp-CHKYRu",
    "outputId": "009d39c6-a6a3-493a-e8df-ed2dcbb2505c"
   },
   "outputs": [
    {
     "name": "stdout",
     "output_type": "stream",
     "text": [
      "[('NASA', 'VERB'), ('invited', 'VERB'), ('social', 'ADJ'), ('media', 'NOUN'), ('users', 'NOUN'), ('to', 'PRT'), ('experience', 'NOUN'), ('the', 'DET'), ('launch', 'NOUN'), ('of', 'ADP'), ('ICESAT-2', 'VERB'), ('Satellite', 'VERB'), ('.', '.')]\n",
      "----------------------------------------------------------------------------------------------------\n",
      "[('NASA', 'NOUN'), ('invited', 'VERB'), ('social', 'ADJ'), ('media', 'NOUN'), ('users', 'NOUN'), ('to', 'PRT'), ('experience', 'NOUN'), ('the', 'DET'), ('launch', 'NOUN'), ('of', 'ADP'), ('ICESAT-2', 'NOUN'), ('Satellite', 'NOUN'), ('.', '.')]\n"
     ]
    }
   ],
   "source": [
    "sentence_test_2 = 'NASA invited social media users to experience the launch of ICESAT-2 Satellite.'\n",
    "words = word_tokenize(sentence_test_2)\n",
    "tagged_seq = Viterbi(words)\n",
    "print(tagged_seq)\n",
    "print('----------------------------------------------------------------------------------------------------')\n",
    "tagged_seq_mod = Viterbi_Trigram_Tagger(words)\n",
    "print(tagged_seq_mod)"
   ]
  },
  {
   "cell_type": "code",
   "execution_count": 43,
   "metadata": {
    "colab": {
     "base_uri": "https://localhost:8080/"
    },
    "id": "digha73ULNts",
    "outputId": "aa326d43-686e-4a56-ce86-092ce7f83a74"
   },
   "outputs": [
    {
     "name": "stdout",
     "output_type": "stream",
     "text": [
      "[('Android', 'VERB'), ('is', 'VERB'), ('a', 'DET'), ('mobile', 'ADJ'), ('operating', 'NOUN'), ('system', 'NOUN'), ('developed', 'VERB'), ('by', 'ADP'), ('Google', 'VERB'), ('.', '.')]\n",
      "----------------------------------------------------------------------------------------------------\n",
      "[('Android', 'NOUN'), ('is', 'VERB'), ('a', 'DET'), ('mobile', 'ADJ'), ('operating', 'NOUN'), ('system', 'NOUN'), ('developed', 'VERB'), ('by', 'ADP'), ('Google', 'NOUN'), ('.', '.')]\n"
     ]
    }
   ],
   "source": [
    "sentence_test_3 = 'Android is a mobile operating system developed by Google.'\n",
    "words = word_tokenize(sentence_test_3)\n",
    "tagged_seq = Viterbi(words)\n",
    "print(tagged_seq)\n",
    "print('----------------------------------------------------------------------------------------------------')\n",
    "tagged_seq_mod = Viterbi_Trigram_Tagger(words)\n",
    "print(tagged_seq_mod)"
   ]
  },
  {
   "cell_type": "markdown",
   "metadata": {
    "id": "BFRA5efhOtkp"
   },
   "source": [
    "We can see from the above three examples that the ones misclassified by Vanilla Viterbi tagger due to not being present in the training corpus has now been tagged properly with the Viterbi + Trigram tagger with a fallback rule based Regex tagger"
   ]
  },
  {
   "cell_type": "code",
   "execution_count": null,
   "metadata": {
    "id": "Xc0mrJj_Lxsp"
   },
   "outputs": [],
   "source": []
  }
 ],
 "metadata": {
  "colab": {
   "collapsed_sections": [],
   "name": "HMM_based_POS_tagging_assignment.ipynb",
   "provenance": []
  },
  "kernelspec": {
   "display_name": "Python 3",
   "language": "python",
   "name": "python3"
  },
  "language_info": {
   "codemirror_mode": {
    "name": "ipython",
    "version": 3
   },
   "file_extension": ".py",
   "mimetype": "text/x-python",
   "name": "python",
   "nbconvert_exporter": "python",
   "pygments_lexer": "ipython3",
   "version": "3.7.3"
  }
 },
 "nbformat": 4,
 "nbformat_minor": 1
}
